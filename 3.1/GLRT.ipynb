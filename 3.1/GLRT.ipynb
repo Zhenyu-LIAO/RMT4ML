{
 "cells": [
  {
   "cell_type": "markdown",
   "metadata": {
    "pycharm": {
     "name": "#%% md\n"
    }
   },
   "source": [
    "# Section 3.1.1: GLRT asymptotics\n",
    "\n",
    "This page contains simulations in Section 3.1.1.\n",
    "\n",
    "## Contents\n",
    "\n",
    "    - FUNCTION\n",
    "    - Detection of statistical information from white noise with GLRT method\n",
    "\n",
    "##  Detection of statistical information from white noise with GLRT method"
   ]
  },
  {
   "cell_type": "code",
   "execution_count": 3,
   "metadata": {
    "pycharm": {
     "name": "#%%\n"
    }
   },
   "outputs": [],
   "source": [
    "import numpy as np\n",
    "import scipy.linalg\n",
    "import scipy.special\n",
    "import matplotlib.pyplot as plt"
   ]
  },
  {
   "cell_type": "markdown",
   "metadata": {
    "pycharm": {
     "name": "#%% md\n"
    }
   },
   "source": [
    "## FUNCTION"
   ]
  },
  {
   "cell_type": "code",
   "execution_count": 4,
   "metadata": {
    "pycharm": {
     "name": "#%%\n"
    }
   },
   "outputs": [],
   "source": [
    "def tracy_widom_appx(x, i):\n",
    "#\n",
    "# [pdftwappx, cdftwappx]=tracywidom_appx(x, i)\n",
    "#\n",
    "# SHIFTED GAMMA APPROXIMATION FOR THE TRACY-WIDOM LAWS, by M. Chiani, 2014\n",
    "# code publicly available https://www.mathworks.com/matlabcentral/fileexchange/44711-approximation-for-the-tracy-widom-laws\n",
    "#\n",
    "# TW ~ Gamma[k,theta]-alpha\n",
    "#\n",
    "# [pdf,cdf]=tracywidom_appx(x,i) for i=1,2,4 gives TW1, TW2, TW4\n",
    "#\n",
    "    kappx = [46.44604884387787, 79.6594870666346, 0, 146.0206131050228]   #  K, THETA, ALPHA\n",
    "    thetaappx = [0.18605402228279347, 0.10103655775856243, 0, 0.05954454047933292]\n",
    "    alphaappx = [9.848007781128567, 9.819607173436484, 0, 11.00161520109004]\n",
    "\n",
    "    cdftwappx = cdfgamma(x+alphaappx[i-1], thetaappx[i-1], kappx[i-1])\n",
    "\n",
    "    pdftwappx = pdfgamma(x+alphaappx[i-1], thetaappx[i-1], kappx[i-1])\n",
    "\n",
    "    return pdftwappx, cdftwappx\n",
    "\n",
    "def pdfgamma(x, ta, ka):\n",
    "    if x > 0:\n",
    "        return 1/(scipy.special.gamma(ka)*ta**ka) * x**(ka - 1) * np.exp(-x/ta)\n",
    "    else:\n",
    "        return 0\n",
    "\n",
    "def cdfgamma(x, ta, ka):\n",
    "    if x > 0:\n",
    "        return scipy.special.gammainc(ka,x/ta)\n",
    "    else:\n",
    "        return 0"
   ]
  },
  {
   "cell_type": "code",
   "execution_count": 9,
   "metadata": {
    "pycharm": {
     "name": "#%%\n"
    }
   },
   "outputs": [
    {
     "data": {
      "text/plain": "<Figure size 432x288 with 1 Axes>",
      "image/png": "[encoded data removed]"
     },
     "metadata": {
      "needs_background": "light"
     },
     "output_type": "display_data"
    }
   ],
   "source": [
    "coeff = 2\n",
    "p = 128*coeff\n",
    "n = 512*coeff\n",
    "c = p/n\n",
    "\n",
    "a = np.concatenate([np.ones(p//2),-1*np.ones(p//2)]) # \"determnistic\" data structure\n",
    "a = a/np.linalg.norm(a)\n",
    "sigma2 = 1\n",
    "\n",
    "nb_average_loop = 500\n",
    "f_alpha_loop = (1+np.sqrt(c))**2+np.linspace(-5,5,50)*n**(-2/3)\n",
    "emp_type_1_error = []\n",
    "theo_type_1_error = []\n",
    "\n",
    "T = lambda X : [ np.linalg.norm(Y,2)/np.trace(Y/p) for Y in [X@X.T/n] ][0]\n",
    "\n",
    "for f_alpha in f_alpha_loop: # decision threshold\n",
    "    emp_type_1_error.append(0)\n",
    "    for average_loop in range(nb_average_loop):\n",
    "        #s = np.random.randn(n) # random signal\n",
    "        X = np.sqrt(sigma2)*np.random.randn(p,n)\n",
    "        emp_type_1_error[-1] += (T(X)>=f_alpha)/nb_average_loop\n",
    "\n",
    "    theo_type_1_error.append(1 - tracy_widom_appx((f_alpha - (1+np.sqrt(c))**2)*(1+np.sqrt(c))**(-4/3)*c**(1/6)*n**(2/3),1)[1])\n",
    "\n",
    "plt.plot(f_alpha_loop,emp_type_1_error,'x',label='Empirical false alarm rate')\n",
    "plt.plot(f_alpha_loop,theo_type_1_error,label='$1 - TW_1(A_p)$')\n",
    "plt.axvline(x=(1+np.sqrt(c))**2,ls='--')\n",
    "plt.xlabel(r'Decision threshold $f(\\alpha)$')\n",
    "plt.ylabel(r'False alarm rate')\n",
    "_ = plt.legend()"
   ]
  }
 ],
 "metadata": {
  "kernelspec": {
   "display_name": "Python 3",
   "language": "python",
   "name": "python3"
  },
  "language_info": {
   "codemirror_mode": {
    "name": "ipython",
    "version": 3
   },
   "file_extension": ".py",
   "mimetype": "text/x-python",
   "name": "python",
   "nbconvert_exporter": "python",
   "pygments_lexer": "ipython3",
   "version": "3.7.3"
  }
 },
 "nbformat": 4,
 "nbformat_minor": 4
}